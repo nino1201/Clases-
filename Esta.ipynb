{
 "cells": [
  {
   "cell_type": "code",
   "execution_count": 7,
   "metadata": {
    "collapsed": false
   },
   "outputs": [],
   "source": [
    "import pandas as pd\n",
    "import numpy as np\n",
    "import matplotlib.pyplot as plt\n",
    "import seaborn as sns\n",
    "from sklearn.cross_validation import train_test_split\n",
    "from sklearn.cross_validation import cross_val_score\n",
    "from sklearn import preprocessing\n",
    "from sklearn import linear_model\n",
    "%matplotlib inline\n"
   ]
  },
  {
   "cell_type": "code",
   "execution_count": 93,
   "metadata": {
    "collapsed": false
   },
   "outputs": [
    {
     "name": "stdout",
     "output_type": "stream",
     "text": [
      "count        400\n",
      "unique         2\n",
      "top       Female\n",
      "freq         207\n",
      "Name: Gender, dtype: object\n"
     ]
    }
   ],
   "source": [
    "data = pd.read_csv('http://www-bcf.usc.edu/~gareth/ISL/Credit.csv', index_col=0)\n",
    "\n",
    "#mapping={'Male':1,'Female':0}\n",
    "#data.replace({'Male':mapping,'Female':mapping})\n",
    "\n",
    "X=data[['Income', 'Limit', 'Rating', 'Cards', 'Age', 'Education','Gender']]\n",
    "Z=data[['Income', 'Limit', 'Rating', 'Cards', 'Age', 'Education']]\n",
    "Y=data['Balance']\n",
    "\n",
    "#Observar la proporción entre mujeres y hombres\n",
    "print X.Gender.describe()\n",
    "\n",
    "X=X.replace([' Male','Female'],[0,1])\n"
   ]
  },
  {
   "cell_type": "code",
   "execution_count": 94,
   "metadata": {
    "collapsed": false
   },
   "outputs": [
    {
     "name": "stderr",
     "output_type": "stream",
     "text": [
      "/usr/local/lib/python2.7/dist-packages/ipykernel/__main__.py:15: UserWarning: With alpha=0, this algorithm does not converge well. You are advised to use the LinearRegression estimator\n"
     ]
    },
    {
     "data": {
      "image/png": "[encoded data removed]",
      "text/plain": [
       "<matplotlib.figure.Figure at 0x7fdb737a5510>"
      ]
     },
     "metadata": {},
     "output_type": "display_data"
    }
   ],
   "source": [
    "X_train, X_test, Y_train, Y_test = train_test_split(X, Y, random_state=1)\n",
    "\n",
    "\n",
    "\n",
    "alpha=np.linspace(0,2000,10000)\n",
    "score=np.zeros([2,len(alpha)])\n",
    "scorez=np.zeros([2,len(alpha)])\n",
    "\n",
    "betas=np.zeros([8,len(alpha)])\n",
    "betasz=np.zeros([7,len(alpha)])\n",
    "       \n",
    "\n",
    "for i in range(0,len(alpha)):\n",
    "    clf= linear_model.Lasso(alpha=alpha[i])\n",
    "    clf.fit(X_train,Y_train)\n",
    "    betas[1:,i]=clf.coef_\n",
    "    betas[0,i]=clf.intercept_\n",
    "    score[0,i]=clf.score(X_test,Y_test)\n",
    "    score[1,i]=clf.score(X_train,Y_train)\n",
    "    scaler = preprocessing.StandardScaler().fit(X_test)\n",
    "\n",
    "X_=scaler.transform(X)\n",
    " \n",
    "plt.plot(alpha,score[0,:])\n",
    "plt.plot(alpha,score[1,:])\n",
    "plt.show()"
   ]
  },
  {
   "cell_type": "code",
   "execution_count": 95,
   "metadata": {
    "collapsed": false
   },
   "outputs": [
    {
     "name": "stderr",
     "output_type": "stream",
     "text": [
      "/usr/local/lib/python2.7/dist-packages/ipykernel/__main__.py:2: UserWarning: With alpha=0, this algorithm does not converge well. You are advised to use the LinearRegression estimator\n",
      "  from ipykernel import kernelapp as app\n",
      "/usr/local/lib/python2.7/dist-packages/sklearn/preprocessing/data.py:586: DeprecationWarning: Passing 1d arrays as data is deprecated in 0.17 and will raise ValueError in 0.19. Reshape your data either using X.reshape(-1, 1) if your data has a single feature or X.reshape(1, -1) if it contains a single sample.\n",
      "  warnings.warn(DEPRECATION_MSG_1D, DeprecationWarning)\n",
      "/usr/local/lib/python2.7/dist-packages/sklearn/preprocessing/data.py:649: DeprecationWarning: Passing 1d arrays as data is deprecated in 0.17 and will raise ValueError in 0.19. Reshape your data either using X.reshape(-1, 1) if your data has a single feature or X.reshape(1, -1) if it contains a single sample.\n",
      "  warnings.warn(DEPRECATION_MSG_1D, DeprecationWarning)\n"
     ]
    }
   ],
   "source": [
    "clf= linear_model.Lasso(alpha=0)\n",
    "clf.fit(X_train,Y_train)\n",
    "\n",
    "scaler = preprocessing.StandardScaler().fit(X_train)\n",
    "X_train=scaler.transform(X_train)\n",
    "\n",
    "scaler = preprocessing.StandardScaler().fit(Y_train)\n",
    "Y_train=scaler.transform(Y_train)"
   ]
  },
  {
   "cell_type": "code",
   "execution_count": 103,
   "metadata": {
    "collapsed": false
   },
   "outputs": [
    {
     "name": "stdout",
     "output_type": "stream",
     "text": [
      "[[-0.5885416  -0.08868549 -0.0268033  ...,  0.43124454 -0.8095962   1.        ]\n",
      " [-0.58496003 -0.45507303 -0.56375316 ...,  0.82914152  0.15548536  1.        ]\n",
      " [ 0.42832821  1.28459593  1.405063   ...,  0.65861424 -0.8095962   1.        ]\n",
      " ..., \n",
      " [-0.89365582 -0.35518988 -0.34499581 ...,  0.54492939  1.12056692  1.        ]\n",
      " [-0.9783407  -0.76502435 -0.76925249 ..., -1.72876765  1.44226077  1.        ]\n",
      " [-0.40102718  0.82862708  0.75541995 ...,  0.77229909 -1.4529839   1.        ]]\n"
     ]
    }
   ],
   "source": [
    "for i in range(400):\n",
    "    if (X_train[i,7]==-1.08347268):\n",
    "        X_train[i,7]=0\n",
    "    else:\n",
    "        X_train[i,7]=1"
   ]
  },
  {
   "cell_type": "code",
   "execution_count": 104,
   "metadata": {
    "collapsed": false
   },
   "outputs": [
    {
     "name": "stderr",
     "output_type": "stream",
     "text": [
      "/usr/local/lib/python2.7/dist-packages/ipykernel/__main__.py:2: UserWarning: With alpha=0, this algorithm does not converge well. You are advised to use the LinearRegression estimator\n",
      "  from ipykernel import kernelapp as app\n"
     ]
    }
   ],
   "source": [
    "clf= linear_model.Lasso(alpha=0)\n",
    "clf.fit(X_train,Y_train)\n",
    "clf.coef_"
   ]
  },
  {
   "cell_type": "code",
   "execution_count": null,
   "metadata": {
    "collapsed": true
   },
   "outputs": [],
   "source": [
    "#la idea es hacer una prueba de significancia para el betta de Genero, saber si es o no estadísticamente diferente de 0\n",
    "#Si sí es diferente, entonces sí hay diferencias en Balance según el género"
   ]
  }
 ],
 "metadata": {
  "kernelspec": {
   "display_name": "Python 2",
   "language": "python",
   "name": "python2"
  },
  "language_info": {
   "codemirror_mode": {
    "name": "ipython",
    "version": 2
   },
   "file_extension": ".py",
   "mimetype": "text/x-python",
   "name": "python",
   "nbconvert_exporter": "python",
   "pygments_lexer": "ipython2",
   "version": "2.7.6"
  }
 },
 "nbformat": 4,
 "nbformat_minor": 0
}
